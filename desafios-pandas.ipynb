{
 "cells": [
  {
   "cell_type": "markdown",
   "id": "487b74d0-a83e-4bf5-b5e5-de0f879d6027",
   "metadata": {},
   "source": [
    "# Desafios Pandas"
   ]
  },
  {
   "cell_type": "code",
   "execution_count": 1,
   "id": "ac57a540-5931-462e-8932-658f467a1b20",
   "metadata": {},
   "outputs": [],
   "source": [
    "# Importando bibliotecas\n",
    "import pandas as pd\n",
    "import numpy as np"
   ]
  },
  {
   "cell_type": "markdown",
   "id": "cf288e77-93e0-4303-8e4b-be5e2c51b8ba",
   "metadata": {},
   "source": [
    "## DESAFIO 1 \n",
    "Dada uma tabela de funcionários e uma de diretoria, selecione as diretorias que possuam profissionais que ganham mais do que 5 mil reais em salário e adicione uma coluna com o percentual que esses funcionários representam de sua diretoria e uma com a quantidade absoluta deles. Exemplo:\n",
    "\n",
    "```SQL\n",
    "Entrada:\n",
    "\n",
    "tabela de funcionários\n",
    "\n",
    "Colunas Tipo\n",
    "\n",
    "id INTEGER\n",
    "\n",
    "primeiro_nome VARCHAR\n",
    "\n",
    "ultimo_nome VARCHAR\n",
    "\n",
    "salario INTEGER\n",
    "\n",
    "diretoria_id INTEGER\n",
    "\n",
    "\n",
    "\n",
    "tabela de diretorias\n",
    "\n",
    "Colunas Tipo\n",
    "\n",
    "id INTEGER\n",
    "\n",
    "nome VARCHAR\n",
    "\n",
    "\n",
    "\n",
    "Saída:\n",
    "\n",
    "Coluna Tipo\n",
    "\n",
    "diretoria_nome VARCHAR\n",
    "\n",
    "percentual_acima_5k INTEGER\n",
    "\n",
    "total_funcionarios_acima_5k INTEGER\n",
    "```"
   ]
  },
  {
   "cell_type": "code",
   "execution_count": 93,
   "id": "2194005e-391d-43d4-a337-8af9620ca840",
   "metadata": {},
   "outputs": [
    {
     "name": "stdout",
     "output_type": "stream",
     "text": [
      "   Unnamed: 0  id              nome\n",
      "0           0   1        Tecnologia\n",
      "1           1   2  Recursos Humanos\n",
      "2           2   3        Financeiro\n",
      "3           3   4         Marketing\n",
      "   Unnamed: 0  id primeiro_nome ultimo_nome  salario  diretoria_id\n",
      "0           0   1           Ana       Silva     7000             1\n",
      "1           1   2         Bruno    Oliveira     4500             1\n",
      "2           2   3        Carlos      Santos     8000             2\n",
      "3           3   4         Diana       Costa     3500             2\n",
      "4           4   5       Eduardo     Pereira     9000             3\n",
      "(4, 3)\n",
      "(10, 6)\n"
     ]
    }
   ],
   "source": [
    "# Analisando os DataFrames\n",
    "diretoria = pd.read_csv('desafio1-arquivos/diretorias.csv')\n",
    "funcionario = pd.read_csv('desafio1-arquivos/funcionarios.csv')\n",
    "\n",
    "print(diretoria.head(5))\n",
    "print(funcionario.head(5))\n",
    "print(diretoria.shape)\n",
    "print(funcionario.shape)"
   ]
  },
  {
   "cell_type": "code",
   "execution_count": 92,
   "id": "b863a7cd-1e94-4ea3-9083-4b0829ee374d",
   "metadata": {},
   "outputs": [
    {
     "ename": "KeyError",
     "evalue": "0",
     "output_type": "error",
     "traceback": [
      "\u001b[31m---------------------------------------------------------------------------\u001b[39m",
      "\u001b[31mKeyError\u001b[39m                                  Traceback (most recent call last)",
      "\u001b[36mFile \u001b[39m\u001b[32m~\\AppData\\Local\\Programs\\Python\\Python313\\Lib\\site-packages\\pandas\\core\\indexes\\base.py:3812\u001b[39m, in \u001b[36mIndex.get_loc\u001b[39m\u001b[34m(self, key)\u001b[39m\n\u001b[32m   3811\u001b[39m \u001b[38;5;28;01mtry\u001b[39;00m:\n\u001b[32m-> \u001b[39m\u001b[32m3812\u001b[39m     \u001b[38;5;28;01mreturn\u001b[39;00m \u001b[38;5;28;43mself\u001b[39;49m\u001b[43m.\u001b[49m\u001b[43m_engine\u001b[49m\u001b[43m.\u001b[49m\u001b[43mget_loc\u001b[49m\u001b[43m(\u001b[49m\u001b[43mcasted_key\u001b[49m\u001b[43m)\u001b[49m\n\u001b[32m   3813\u001b[39m \u001b[38;5;28;01mexcept\u001b[39;00m \u001b[38;5;167;01mKeyError\u001b[39;00m \u001b[38;5;28;01mas\u001b[39;00m err:\n",
      "\u001b[36mFile \u001b[39m\u001b[32mpandas/_libs/index.pyx:167\u001b[39m, in \u001b[36mpandas._libs.index.IndexEngine.get_loc\u001b[39m\u001b[34m()\u001b[39m\n",
      "\u001b[36mFile \u001b[39m\u001b[32mpandas/_libs/index.pyx:196\u001b[39m, in \u001b[36mpandas._libs.index.IndexEngine.get_loc\u001b[39m\u001b[34m()\u001b[39m\n",
      "\u001b[36mFile \u001b[39m\u001b[32mpandas/_libs/hashtable_class_helper.pxi:2606\u001b[39m, in \u001b[36mpandas._libs.hashtable.Int64HashTable.get_item\u001b[39m\u001b[34m()\u001b[39m\n",
      "\u001b[36mFile \u001b[39m\u001b[32mpandas/_libs/hashtable_class_helper.pxi:2630\u001b[39m, in \u001b[36mpandas._libs.hashtable.Int64HashTable.get_item\u001b[39m\u001b[34m()\u001b[39m\n",
      "\u001b[31mKeyError\u001b[39m: 0",
      "\nThe above exception was the direct cause of the following exception:\n",
      "\u001b[31mKeyError\u001b[39m                                  Traceback (most recent call last)",
      "\u001b[36mCell\u001b[39m\u001b[36m \u001b[39m\u001b[32mIn[92]\u001b[39m\u001b[32m, line 12\u001b[39m\n\u001b[32m     10\u001b[39m x = func_acima5k.groupby(\u001b[33m'\u001b[39m\u001b[33mdiretoria_id\u001b[39m\u001b[33m'\u001b[39m)[\u001b[33m'\u001b[39m\u001b[33msalario\u001b[39m\u001b[33m'\u001b[39m].count()\n\u001b[32m     11\u001b[39m y = funcionario.groupby(\u001b[33m'\u001b[39m\u001b[33mdiretoria_id\u001b[39m\u001b[33m'\u001b[39m)[\u001b[33m'\u001b[39m\u001b[33mid\u001b[39m\u001b[33m'\u001b[39m].count()\n\u001b[32m---> \u001b[39m\u001b[32m12\u001b[39m \u001b[43mx\u001b[49m\u001b[43m[\u001b[49m\u001b[32;43m0\u001b[39;49m\u001b[43m]\u001b[49m\n",
      "\u001b[36mFile \u001b[39m\u001b[32m~\\AppData\\Local\\Programs\\Python\\Python313\\Lib\\site-packages\\pandas\\core\\series.py:1130\u001b[39m, in \u001b[36mSeries.__getitem__\u001b[39m\u001b[34m(self, key)\u001b[39m\n\u001b[32m   1127\u001b[39m     \u001b[38;5;28;01mreturn\u001b[39;00m \u001b[38;5;28mself\u001b[39m._values[key]\n\u001b[32m   1129\u001b[39m \u001b[38;5;28;01melif\u001b[39;00m key_is_scalar:\n\u001b[32m-> \u001b[39m\u001b[32m1130\u001b[39m     \u001b[38;5;28;01mreturn\u001b[39;00m \u001b[38;5;28;43mself\u001b[39;49m\u001b[43m.\u001b[49m\u001b[43m_get_value\u001b[49m\u001b[43m(\u001b[49m\u001b[43mkey\u001b[49m\u001b[43m)\u001b[49m\n\u001b[32m   1132\u001b[39m \u001b[38;5;66;03m# Convert generator to list before going through hashable part\u001b[39;00m\n\u001b[32m   1133\u001b[39m \u001b[38;5;66;03m# (We will iterate through the generator there to check for slices)\u001b[39;00m\n\u001b[32m   1134\u001b[39m \u001b[38;5;28;01mif\u001b[39;00m is_iterator(key):\n",
      "\u001b[36mFile \u001b[39m\u001b[32m~\\AppData\\Local\\Programs\\Python\\Python313\\Lib\\site-packages\\pandas\\core\\series.py:1246\u001b[39m, in \u001b[36mSeries._get_value\u001b[39m\u001b[34m(self, label, takeable)\u001b[39m\n\u001b[32m   1243\u001b[39m     \u001b[38;5;28;01mreturn\u001b[39;00m \u001b[38;5;28mself\u001b[39m._values[label]\n\u001b[32m   1245\u001b[39m \u001b[38;5;66;03m# Similar to Index.get_value, but we do not fall back to positional\u001b[39;00m\n\u001b[32m-> \u001b[39m\u001b[32m1246\u001b[39m loc = \u001b[38;5;28;43mself\u001b[39;49m\u001b[43m.\u001b[49m\u001b[43mindex\u001b[49m\u001b[43m.\u001b[49m\u001b[43mget_loc\u001b[49m\u001b[43m(\u001b[49m\u001b[43mlabel\u001b[49m\u001b[43m)\u001b[49m\n\u001b[32m   1248\u001b[39m \u001b[38;5;28;01mif\u001b[39;00m is_integer(loc):\n\u001b[32m   1249\u001b[39m     \u001b[38;5;28;01mreturn\u001b[39;00m \u001b[38;5;28mself\u001b[39m._values[loc]\n",
      "\u001b[36mFile \u001b[39m\u001b[32m~\\AppData\\Local\\Programs\\Python\\Python313\\Lib\\site-packages\\pandas\\core\\indexes\\base.py:3819\u001b[39m, in \u001b[36mIndex.get_loc\u001b[39m\u001b[34m(self, key)\u001b[39m\n\u001b[32m   3814\u001b[39m     \u001b[38;5;28;01mif\u001b[39;00m \u001b[38;5;28misinstance\u001b[39m(casted_key, \u001b[38;5;28mslice\u001b[39m) \u001b[38;5;129;01mor\u001b[39;00m (\n\u001b[32m   3815\u001b[39m         \u001b[38;5;28misinstance\u001b[39m(casted_key, abc.Iterable)\n\u001b[32m   3816\u001b[39m         \u001b[38;5;129;01mand\u001b[39;00m \u001b[38;5;28many\u001b[39m(\u001b[38;5;28misinstance\u001b[39m(x, \u001b[38;5;28mslice\u001b[39m) \u001b[38;5;28;01mfor\u001b[39;00m x \u001b[38;5;129;01min\u001b[39;00m casted_key)\n\u001b[32m   3817\u001b[39m     ):\n\u001b[32m   3818\u001b[39m         \u001b[38;5;28;01mraise\u001b[39;00m InvalidIndexError(key)\n\u001b[32m-> \u001b[39m\u001b[32m3819\u001b[39m     \u001b[38;5;28;01mraise\u001b[39;00m \u001b[38;5;167;01mKeyError\u001b[39;00m(key) \u001b[38;5;28;01mfrom\u001b[39;00m\u001b[38;5;250m \u001b[39m\u001b[34;01merr\u001b[39;00m\n\u001b[32m   3820\u001b[39m \u001b[38;5;28;01mexcept\u001b[39;00m \u001b[38;5;167;01mTypeError\u001b[39;00m:\n\u001b[32m   3821\u001b[39m     \u001b[38;5;66;03m# If we have a listlike key, _check_indexing_error will raise\u001b[39;00m\n\u001b[32m   3822\u001b[39m     \u001b[38;5;66;03m#  InvalidIndexError. Otherwise we fall through and re-raise\u001b[39;00m\n\u001b[32m   3823\u001b[39m     \u001b[38;5;66;03m#  the TypeError.\u001b[39;00m\n\u001b[32m   3824\u001b[39m     \u001b[38;5;28mself\u001b[39m._check_indexing_error(key)\n",
      "\u001b[31mKeyError\u001b[39m: 0"
     ]
    }
   ],
   "source": [
    "'''\n",
    "Selecione as diretorias que possuam profissionais que ganham mais do que 5 mil reais em salário \n",
    "e adicione uma coluna com o percentual que esses funcionários representam de sua diretoria \n",
    "e uma com a quantidade absoluta deles\n",
    "'''\n",
    "\n"
   ]
  },
  {
   "cell_type": "markdown",
   "id": "7220fec0-949c-4aaf-af0c-1706d261058d",
   "metadata": {},
   "source": [
    "## DESAFIO 2\n",
    "\n",
    "Os alunos de uma escola participam de um exame abrangente cada bimestre, conhecido como \"Provão\", que cobre todas as disciplinas. As notas deste exame variam de 0 a 100. A partir de um dataset contendo as notas de todos os \"Provões\", o objetivo é criar um novo dataset. Este novo dataset deve conter as notas de cada aluno em cada um dos \"Provões\" como colunas separadas e uma coluna adicional indicando se o aluno foi aprovado, considerando que a aprovação requer uma média superior a 50 em todos os exames. Além disso, queremos identificar qual turma tem o maior número de alunos reprovados no \"Provão\".\n",
    "\n",
    "```SQL\n",
    "Entrada:\n",
    "\n",
    "Coluna Tipo\n",
    "\n",
    "id_aluno INTEGER\n",
    "\n",
    "turma_id VARCHAR\n",
    "\n",
    "primeiro_nome VARCHAR\n",
    "\n",
    "ultimo_nome VARCHAR\n",
    "\n",
    "id_provao INTEGER\n",
    "\n",
    "nota_provao INTEGER\n",
    "\n",
    "\n",
    "Saída:\n",
    "\n",
    "Coluna Tipo\n",
    "\n",
    "id_aluno INTEGER\n",
    "\n",
    "turma_id VARCHAR\n",
    "\n",
    "nota_provao_1 INTEGER\n",
    "\n",
    "nota_provao_2 INTEGER\n",
    "\n",
    "nota_provao_3 INTEGER\n",
    "\n",
    "nota_provao_4 INTEGER\n",
    "\n",
    "aprovado BOOLEAN (TRUE, se aprovado)​\n",
    "```\n"
   ]
  },
  {
   "cell_type": "code",
   "execution_count": null,
   "id": "1c76d1aa-5aab-4869-990a-ac6959a3b462",
   "metadata": {},
   "outputs": [],
   "source": []
  },
  {
   "cell_type": "markdown",
   "id": "e72790f3-e76b-4a70-abf5-3b4dfd9e111e",
   "metadata": {},
   "source": [
    "## DESAFIO 3\n",
    "\n",
    "A sua loja possui os registros das compras de todos os clientes numa tabela com as seguintes informações:\n",
    "\n",
    "id_cliente\n",
    "estado\n",
    "data_da_compra\n",
    "valor_compra\n",
    "\n",
    "A partir dessa tabela, precisamos que você:\n",
    "\n",
    "- Crie uma nova tabela contendo a informação de id_cliente, qtd_compras (número de compras), valor_total_compras (valor total gasto), valor_medio_compras (valor médio das compras), data_ultima_compra.\n",
    "- Identifique o estado que mais vendeu em termos de receita e o que mais vendeu em unidades."
   ]
  },
  {
   "cell_type": "code",
   "execution_count": null,
   "id": "72e72f9f-5045-48df-a1e9-fa2b25b64c96",
   "metadata": {},
   "outputs": [],
   "source": []
  }
 ],
 "metadata": {
  "kernelspec": {
   "display_name": "Python 3 (ipykernel)",
   "language": "python",
   "name": "python3"
  },
  "language_info": {
   "codemirror_mode": {
    "name": "ipython",
    "version": 3
   },
   "file_extension": ".py",
   "mimetype": "text/x-python",
   "name": "python",
   "nbconvert_exporter": "python",
   "pygments_lexer": "ipython3",
   "version": "3.13.5"
  }
 },
 "nbformat": 4,
 "nbformat_minor": 5
}
